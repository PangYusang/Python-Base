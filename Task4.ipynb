{
 "cells": [
  {
   "cell_type": "markdown",
   "metadata": {},
   "source": [
    "## 函数关键字"
   ]
  },
  {
   "cell_type": "markdown",
   "metadata": {},
   "source": [
    "**函数**是指可重复使用的程序片段。函数的关键词为**def**。"
   ]
  },
  {
   "cell_type": "markdown",
   "metadata": {},
   "source": [
    "## 函数的定义"
   ]
  },
  {
   "cell_type": "markdown",
   "metadata": {},
   "source": [
    "函数通过关键字def定义，并在后面跟一个函数的标识符名称，再跟一对圆括号**()**，其中包括一些变量的名称，再以冒号**:**结尾该行。"
   ]
  },
  {
   "cell_type": "code",
   "execution_count": 1,
   "metadata": {},
   "outputs": [
    {
     "name": "stdout",
     "output_type": "stream",
     "text": [
      "5\n"
     ]
    }
   ],
   "source": [
    "def sum(a, b):\n",
    "    c = a + b\n",
    "    return c\n",
    "\n",
    "s1 = 1\n",
    "s2 = 4\n",
    "s3 = sum(s1, s2)\n",
    "print(s3)"
   ]
  },
  {
   "cell_type": "markdown",
   "metadata": {},
   "source": [
    "## 函数参数与作用域"
   ]
  },
  {
   "cell_type": "markdown",
   "metadata": {},
   "source": [
    "- 定义函数的时候，我们把参数的名字和位置确定下来，函数的接口定义就完成了。\n",
    "- 对于函数的调用者来说，只需要 知道如何传递正确的参数，以及函数将返回什么样的值就够了，函数内部的复杂逻辑被封装起来，调用者无需了解。"
   ]
  },
  {
   "cell_type": "markdown",
   "metadata": {},
   "source": [
    "- Local：局部变量，当一个函数被调用时，函数内部的变量不会与函数之外的具有相同名称的变量产生关系。\n",
    "- global：全局变量，你想对函数之外的变量进行运算操作，使得该变量发生变化，必须声明该变量是全局的，而不是局部的"
   ]
  },
  {
   "cell_type": "code",
   "execution_count": 5,
   "metadata": {},
   "outputs": [
    {
     "name": "stdout",
     "output_type": "stream",
     "text": [
      "a = 9\n",
      "b = 2\n",
      "a = 11\n",
      "b = 9\n",
      "a = 9\n",
      "b = 2\n"
     ]
    }
   ],
   "source": [
    "a = 9\n",
    "b = 2\n",
    "def sum(a, b):\n",
    "    print(\"a =\",a)\n",
    "    print(\"b =\",b)\n",
    "    a = a + b\n",
    "    b = a - b\n",
    "    print(\"a =\",a)\n",
    "    print(\"b =\",b)\n",
    "sum(a,b)\n",
    "print(\"a =\",a)\n",
    "print(\"b =\",b)"
   ]
  },
  {
   "cell_type": "code",
   "execution_count": 9,
   "metadata": {},
   "outputs": [
    {
     "name": "stdout",
     "output_type": "stream",
     "text": [
      "a = 9\n",
      "b = 2\n",
      "a = 11\n",
      "b = 9\n",
      "a = 11\n",
      "b = 9\n"
     ]
    }
   ],
   "source": [
    "a = 9\n",
    "b = 2\n",
    "def sum():\n",
    "    global a,b\n",
    "    print(\"a =\",a)\n",
    "    print(\"b =\",b)\n",
    "    a = a + b\n",
    "    b = a - b\n",
    "    print(\"a =\",a)\n",
    "    print(\"b =\",b)\n",
    "\n",
    "sum()\n",
    "print(\"a =\",a)\n",
    "print(\"b =\",b)"
   ]
  },
  {
   "cell_type": "markdown",
   "metadata": {},
   "source": [
    "## 函数返回值"
   ]
  },
  {
   "cell_type": "code",
   "execution_count": 12,
   "metadata": {},
   "outputs": [
    {
     "name": "stdout",
     "output_type": "stream",
     "text": [
      "79 33\n"
     ]
    },
    {
     "data": {
      "text/plain": [
       "(79, 33)"
      ]
     },
     "execution_count": 12,
     "metadata": {},
     "output_type": "execute_result"
    }
   ],
   "source": [
    "def math(a, b):\n",
    "    add = a + b\n",
    "    sub = a - b\n",
    "    return add, sub\n",
    "\n",
    "x, y = math(56,23)\n",
    "print(x, y)\n",
    "math(56,23)"
   ]
  },
  {
   "cell_type": "markdown",
   "metadata": {},
   "source": [
    "原来返回值是一个tuple！但是，在语法上，返回一个tuple可以省略括号，而多个变量可以同时接收一个tuple，按位 置赋给对应的值，所以，Python的函数返回多值其实就是返回一个tuple，但写起来更方便。"
   ]
  },
  {
   "cell_type": "markdown",
   "metadata": {},
   "source": [
    "## file"
   ]
  },
  {
   "cell_type": "markdown",
   "metadata": {},
   "source": [
    "### 打开文件方式（读写两种方式）"
   ]
  },
  {
   "cell_type": "markdown",
   "metadata": {},
   "source": [
    "读写文件是常见的IO操作。Python内置了读写文件的函数，用法和C是兼容的。\n",
    "*********\n",
    "读写文件前，我们先必须了解一下，在磁盘上读写文件的功能都是由操作系统提供的，现代操作系统不允许普通的 程序直接操作磁盘，所以，读写文件就是请求操作系统打开一个文件对象（通常称为文件描述符），然后，通过操 作系统提供的接口从这个文件对象中读取数据（读文件），或者把数据写入这个文件对象（写文件）。"
   ]
  },
  {
   "cell_type": "markdown",
   "metadata": {},
   "source": [
    "%百分号之后直接写命令可以实现系统登记的命令行操作，ls命令可以查看目前路径下的文件"
   ]
  },
  {
   "cell_type": "code",
   "execution_count": 20,
   "metadata": {},
   "outputs": [
    {
     "name": "stdout",
     "output_type": "stream",
     "text": [
      " 驱动器 F 中的卷是 Code\n",
      " 卷的序列号是 0000-7DFF\n",
      "\n",
      " F:\\Jupyter-notebook\\python-基础-datawhale 的目录\n",
      "\n",
      "2019/08/11  16:00    <DIR>          .\n",
      "2019/08/11  16:00    <DIR>          ..\n",
      "2019/08/10  14:52    <DIR>          .ipynb_checkpoints\n",
      "2019/08/07  18:56            30,757 task(1)-pangyusang.ipynb\n",
      "2019/08/07  15:44            11,794 Task2.ipynb\n",
      "2019/08/11  15:20            10,274 Task3.ipynb\n",
      "2019/08/11  16:00             7,331 Task4.ipynb\n",
      "2019/08/11  15:59                20 task4.txt\n",
      "               5 个文件         60,176 字节\n",
      "               3 个目录 73,572,601,856 可用字节\n"
     ]
    }
   ],
   "source": [
    "%ls   "
   ]
  },
  {
   "cell_type": "code",
   "execution_count": 23,
   "metadata": {},
   "outputs": [],
   "source": [
    "f = open('task4.txt', 'r')   #  请求读权限\n",
    "f.read()   # 读文件\n",
    "f.close()"
   ]
  },
  {
   "cell_type": "markdown",
   "metadata": {},
   "source": [
    "由于文件读写时都有可能产生 IOError ，一旦出错，后面的 f.close() 就不会调用。所以，为了保证无论是否出错 都能正确地关闭文件，我们可以使用 try ... finally 来实现：\n"
   ]
  },
  {
   "cell_type": "code",
   "execution_count": 24,
   "metadata": {},
   "outputs": [],
   "source": [
    "try:\n",
    "    f = open('task4.txt', 'r')   #  请求读权限\n",
    "    f.read()   # 读文件\n",
    "finally:\n",
    "    if f:\n",
    "        f.close()"
   ]
  },
  {
   "cell_type": "markdown",
   "metadata": {},
   "source": [
    "但是每次都这么写实在太繁琐，所以，Python引入了 with 语句来自动帮我们调用 close() 方法：\n"
   ]
  },
  {
   "cell_type": "code",
   "execution_count": 29,
   "metadata": {},
   "outputs": [
    {
     "name": "stdout",
     "output_type": "stream",
     "text": [
      "This is my notebook!\n"
     ]
    }
   ],
   "source": [
    "with open('task4.txt', 'r') as f: \n",
    "    print(f.read())"
   ]
  },
  {
   "cell_type": "markdown",
   "metadata": {},
   "source": [
    "写文件和读文件是一样的，唯一区别是调用 open() 函数时，传入标识符 'w' 或者 'wb' 表示写文本文件或写二进制 文件："
   ]
  },
  {
   "cell_type": "code",
   "execution_count": 31,
   "metadata": {},
   "outputs": [],
   "source": [
    "f = open('task4.txt', 'w')\n",
    "f.write('Hello, world!')\n",
    "f.close()"
   ]
  },
  {
   "cell_type": "code",
   "execution_count": 32,
   "metadata": {},
   "outputs": [
    {
     "name": "stdout",
     "output_type": "stream",
     "text": [
      "Hello, world!\n"
     ]
    }
   ],
   "source": [
    "with open('task4.txt', 'r') as f: \n",
    "    print(f.read())"
   ]
  },
  {
   "cell_type": "markdown",
   "metadata": {},
   "source": [
    "### 学习对excel及csv文件进行操作"
   ]
  },
  {
   "cell_type": "markdown",
   "metadata": {},
   "source": [
    "python 可以用利用xlrd 库读取数据excel数据，可以用xlwt写入excel数据，用csv 操作csv文件\n",
    "首先利用pip导入库文件：\n",
    "- pip install xlrd  \n",
    "- pip install xlwt"
   ]
  },
  {
   "cell_type": "markdown",
   "metadata": {},
   "source": [
    "#### excel写操作"
   ]
  },
  {
   "cell_type": "code",
   "execution_count": 65,
   "metadata": {},
   "outputs": [],
   "source": [
    "import xlwt\n",
    "\n",
    "filename='text.xls'\n",
    "workbook = xlwt.Workbook()\n",
    "sheet = workbook.add_sheet('data')\n",
    "count=0  #记录写入的行号\n",
    "\n",
    "def write_line_to_excel(data, row):# data=[1，2,3,4]\n",
    "        for i in range(len(data)):\n",
    "            sheet.write(row,i,data[i])\n",
    "        workbook.save(filename)\n",
    "DATA=[[1,2,3,4],[2,3,4,5],[3,4,5,6]]\n",
    "for i in range(len(DATA)):\n",
    "    write_line_to_excel(DATA[i], i)"
   ]
  },
  {
   "cell_type": "markdown",
   "metadata": {},
   "source": [
    "#### excel读操作"
   ]
  },
  {
   "cell_type": "code",
   "execution_count": 67,
   "metadata": {},
   "outputs": [
    {
     "name": "stdout",
     "output_type": "stream",
     "text": [
      "['data']\n",
      "3\n",
      "4\n",
      "[1.0, 2.0, 3.0, 4.0]\n",
      "[1.0, 2.0, 3.0]\n",
      "3.0\n"
     ]
    }
   ],
   "source": [
    "import xlrd\n",
    "filename='text.xls'\n",
    "data=xlrd.open_workbook(filename)\n",
    "print(data.sheet_names())  #打印sheet系列列表\n",
    "\n",
    "\n",
    "#根据sheet名称或者索引去提取要读取的sheet\n",
    "sheet=data.sheet_by_name('data') \n",
    "\n",
    "\n",
    "print(sheet.nrows)  #行数\n",
    "print(sheet.ncols)  #列数\n",
    "print(sheet.row_values(0))  #提取第一行 ,return value is list array\n",
    "print(sheet.col_values(0))   #提取第一列\n",
    "print(sheet.cell_value(1,1))  #读取坐标（1,1）的单元格"
   ]
  },
  {
   "cell_type": "markdown",
   "metadata": {},
   "source": [
    "#### csv写操作"
   ]
  },
  {
   "cell_type": "code",
   "execution_count": 70,
   "metadata": {},
   "outputs": [],
   "source": [
    "import csv\n",
    "\n",
    "filename='data.csv' \n",
    "out=open(filename,'a+',newline='') #以追加的形式打开文件\n",
    "csv_writer=csv.writer(out)\n",
    "data=['s','v','123',234]\n",
    "csv_writer.writerow(data)  #写入一行数据\n",
    "out.close()"
   ]
  },
  {
   "cell_type": "markdown",
   "metadata": {},
   "source": [
    "#### csv读操作"
   ]
  },
  {
   "cell_type": "code",
   "execution_count": 72,
   "metadata": {},
   "outputs": [
    {
     "name": "stdout",
     "output_type": "stream",
     "text": [
      "s,v,123,234\n"
     ]
    }
   ],
   "source": [
    "import csv \n",
    "with open('data.csv',newline='') as csvfile:\n",
    "    rder=csv.reader(csvfile,delimiter=',')\n",
    "    for line in rder:\n",
    "        print(','.join(line))"
   ]
  },
  {
   "cell_type": "markdown",
   "metadata": {},
   "source": [
    "## os模块"
   ]
  },
  {
   "cell_type": "markdown",
   "metadata": {},
   "source": [
    "如果要在Python程序中执行这些目录和文件的操作怎么办？其实操作系统提供的命令只是简单地调用了操作系统提 供的接口函数，Python内置的 os 模块也可以直接调用操作系统提供的接口函数。\n"
   ]
  },
  {
   "cell_type": "code",
   "execution_count": 33,
   "metadata": {},
   "outputs": [
    {
     "data": {
      "text/plain": [
       "'nt'"
      ]
     },
     "execution_count": 33,
     "metadata": {},
     "output_type": "execute_result"
    }
   ],
   "source": [
    "import os\n",
    "os.name"
   ]
  },
  {
   "cell_type": "markdown",
   "metadata": {},
   "source": [
    "如果是 posix ，说明系统是 Linux 、 Unix 或 Mac OS X ，如果是 nt ，就是 Windows 系统。\n",
    "在操作系统中定义的环境变量，全部保存在 os.environ 这个 dict 中，可以直接查看："
   ]
  },
  {
   "cell_type": "code",
   "execution_count": 35,
   "metadata": {
    "scrolled": true
   },
   "outputs": [
    {
     "data": {
      "text/plain": [
       "environ{'ALLUSERSPROFILE': 'C:\\\\ProgramData',\n",
       "        'APPDATA': 'C:\\\\Users\\\\Administrator\\\\AppData\\\\Roaming',\n",
       "        'COMMONPROGRAMFILES': 'C:\\\\Program Files\\\\Common Files',\n",
       "        'COMMONPROGRAMFILES(X86)': 'C:\\\\Program Files (x86)\\\\Common Files',\n",
       "        'COMMONPROGRAMW6432': 'C:\\\\Program Files\\\\Common Files',\n",
       "        'COMPUTERNAME': 'W10-20190708296',\n",
       "        'COMSPEC': 'C:\\\\Windows\\\\system32\\\\cmd.exe',\n",
       "        'DRIVERDATA': 'C:\\\\Windows\\\\System32\\\\Drivers\\\\DriverData',\n",
       "        'FPS_BROWSER_APP_PROFILE_STRING': 'Internet Explorer',\n",
       "        'FPS_BROWSER_USER_PROFILE_STRING': 'Default',\n",
       "        'HOMEDRIVE': 'C:',\n",
       "        'HOMEPATH': '\\\\Users\\\\Administrator',\n",
       "        'KMP_DUPLICATE_LIB_OK': 'TRUE',\n",
       "        'LOCALAPPDATA': 'C:\\\\Users\\\\Administrator\\\\AppData\\\\Local',\n",
       "        'LOGONSERVER': '\\\\\\\\W10-20190708296',\n",
       "        'MKL_SERIAL': 'YES',\n",
       "        'NIDAQMXSWITCHDIR': 'D:\\\\Program Files (x86)\\\\National Instruments\\\\NI-DAQ\\\\Switch\\\\',\n",
       "        'NIEXTCCOMPILERSUPP': 'D:\\\\Program Files (x86)\\\\National Instruments\\\\Shared\\\\ExternalCompilerSupport\\\\C\\\\',\n",
       "        'NIIVIPATH': 'C:\\\\Program Files (x86)\\\\IVI Foundation\\\\IVI\\\\',\n",
       "        'NUMBER_OF_PROCESSORS': '4',\n",
       "        'OS': 'Windows_NT',\n",
       "        'PATH': 'C:\\\\Program Files\\\\Miniconda;C:\\\\Program Files\\\\Miniconda\\\\Library\\\\mingw-w64\\\\bin;C:\\\\Program Files\\\\Miniconda\\\\Library\\\\usr\\\\bin;C:\\\\Program Files\\\\Miniconda\\\\Library\\\\bin;C:\\\\Program Files\\\\Miniconda\\\\Scripts;C:\\\\Windows\\\\system32;C:\\\\Windows;C:\\\\Windows\\\\System32\\\\Wbem;C:\\\\Windows\\\\System32\\\\WindowsPowerShell\\\\v1.0\\\\;C:\\\\Windows\\\\System32\\\\OpenSSH\\\\;C:\\\\Program Files (x86)\\\\IVI Foundation\\\\IVI\\\\bin;C:\\\\Program Files (x86)\\\\IVI Foundation\\\\VISA\\\\WinNT\\\\Bin\\\\;C:\\\\PROGRA~2\\\\IVIFOU~1\\\\VISA\\\\WinNT\\\\Bin;C:\\\\Program Files (x86)\\\\IVI Foundation\\\\VISA\\\\WinNT\\\\Bin;C:\\\\Program Files\\\\IVI Foundation\\\\VISA\\\\Win64\\\\Bin\\\\;C:\\\\Program Files\\\\MATLAB\\\\R2014a\\\\runtime\\\\win64;C:\\\\Program Files\\\\MATLAB\\\\R2014a\\\\bin;C:\\\\Program Files\\\\MATLAB\\\\R2014a\\\\polyspace\\\\bin;C:\\\\Users\\\\Administrator\\\\AppData\\\\Local\\\\Microsoft\\\\WindowsApps;C:\\\\Program Files\\\\Microsoft VS Code\\\\bin;C:\\\\Users\\\\Administrator\\\\AppData\\\\Local\\\\GitHubDesktop\\\\bin',\n",
       "        'PATHEXT': '.COM;.EXE;.BAT;.CMD;.VBS;.VBE;.JS;.JSE;.WSF;.WSH;.MSC',\n",
       "        'PROCESSOR_ARCHITECTURE': 'AMD64',\n",
       "        'PROCESSOR_IDENTIFIER': 'Intel64 Family 6 Model 60 Stepping 3, GenuineIntel',\n",
       "        'PROCESSOR_LEVEL': '6',\n",
       "        'PROCESSOR_REVISION': '3c03',\n",
       "        'PROGRAMDATA': 'C:\\\\ProgramData',\n",
       "        'PROGRAMFILES': 'C:\\\\Program Files',\n",
       "        'PROGRAMFILES(X86)': 'C:\\\\Program Files (x86)',\n",
       "        'PROGRAMW6432': 'C:\\\\Program Files',\n",
       "        'PSMODULEPATH': 'C:\\\\Program Files\\\\WindowsPowerShell\\\\Modules;C:\\\\Windows\\\\system32\\\\WindowsPowerShell\\\\v1.0\\\\Modules',\n",
       "        'PUBLIC': 'C:\\\\Users\\\\Public',\n",
       "        'SESSIONNAME': 'Console',\n",
       "        'SYSTEMDRIVE': 'C:',\n",
       "        'SYSTEMROOT': 'C:\\\\Windows',\n",
       "        'TEMP': 'C:\\\\Users\\\\ADMINI~1\\\\AppData\\\\Local\\\\Temp',\n",
       "        'TMP': 'C:\\\\Users\\\\ADMINI~1\\\\AppData\\\\Local\\\\Temp',\n",
       "        'USERDOMAIN': 'W10-20190708296',\n",
       "        'USERDOMAIN_ROAMINGPROFILE': 'W10-20190708296',\n",
       "        'USERNAME': 'Administrator',\n",
       "        'USERPROFILE': 'C:\\\\Users\\\\Administrator',\n",
       "        'VXIPNPPATH': 'C:\\\\Program Files (x86)\\\\IVI Foundation\\\\VISA\\\\',\n",
       "        'VXIPNPPATH64': 'C:\\\\Program Files\\\\IVI Foundation\\\\VISA\\\\',\n",
       "        'WINDIR': 'C:\\\\Windows',\n",
       "        'CONDA_PREFIX': 'C:\\\\Program Files\\\\Miniconda',\n",
       "        'KERNEL_LAUNCH_TIMEOUT': '40',\n",
       "        'JPY_INTERRUPT_EVENT': '2964',\n",
       "        'IPY_INTERRUPT_EVENT': '2964',\n",
       "        'JPY_PARENT_PID': '2832',\n",
       "        'TERM': 'xterm-color',\n",
       "        'CLICOLOR': '1',\n",
       "        'PAGER': 'cat',\n",
       "        'GIT_PAGER': 'cat',\n",
       "        'MPLBACKEND': 'module://ipykernel.pylab.backend_inline'}"
      ]
     },
     "execution_count": 35,
     "metadata": {},
     "output_type": "execute_result"
    }
   ],
   "source": [
    "os.environ"
   ]
  },
  {
   "cell_type": "markdown",
   "metadata": {},
   "source": [
    "要获取某个环境变量的值，可以调用 os.getenv() 函数："
   ]
  },
  {
   "cell_type": "code",
   "execution_count": 36,
   "metadata": {
    "scrolled": true
   },
   "outputs": [
    {
     "data": {
      "text/plain": [
       "'C:\\\\Program Files\\\\Miniconda;C:\\\\Program Files\\\\Miniconda\\\\Library\\\\mingw-w64\\\\bin;C:\\\\Program Files\\\\Miniconda\\\\Library\\\\usr\\\\bin;C:\\\\Program Files\\\\Miniconda\\\\Library\\\\bin;C:\\\\Program Files\\\\Miniconda\\\\Scripts;C:\\\\Windows\\\\system32;C:\\\\Windows;C:\\\\Windows\\\\System32\\\\Wbem;C:\\\\Windows\\\\System32\\\\WindowsPowerShell\\\\v1.0\\\\;C:\\\\Windows\\\\System32\\\\OpenSSH\\\\;C:\\\\Program Files (x86)\\\\IVI Foundation\\\\IVI\\\\bin;C:\\\\Program Files (x86)\\\\IVI Foundation\\\\VISA\\\\WinNT\\\\Bin\\\\;C:\\\\PROGRA~2\\\\IVIFOU~1\\\\VISA\\\\WinNT\\\\Bin;C:\\\\Program Files (x86)\\\\IVI Foundation\\\\VISA\\\\WinNT\\\\Bin;C:\\\\Program Files\\\\IVI Foundation\\\\VISA\\\\Win64\\\\Bin\\\\;C:\\\\Program Files\\\\MATLAB\\\\R2014a\\\\runtime\\\\win64;C:\\\\Program Files\\\\MATLAB\\\\R2014a\\\\bin;C:\\\\Program Files\\\\MATLAB\\\\R2014a\\\\polyspace\\\\bin;C:\\\\Users\\\\Administrator\\\\AppData\\\\Local\\\\Microsoft\\\\WindowsApps;C:\\\\Program Files\\\\Microsoft VS Code\\\\bin;C:\\\\Users\\\\Administrator\\\\AppData\\\\Local\\\\GitHubDesktop\\\\bin'"
      ]
     },
     "execution_count": 36,
     "metadata": {},
     "output_type": "execute_result"
    }
   ],
   "source": [
    "os.getenv('PATH')"
   ]
  },
  {
   "cell_type": "code",
   "execution_count": 40,
   "metadata": {},
   "outputs": [
    {
     "data": {
      "text/plain": [
       "'F:\\\\Jupyter-notebook\\\\python-基础-datawhale'"
      ]
     },
     "execution_count": 40,
     "metadata": {},
     "output_type": "execute_result"
    }
   ],
   "source": [
    "os.path.abspath(\".\")  # 查看当前目录的绝对路径: "
   ]
  },
  {
   "cell_type": "markdown",
   "metadata": {},
   "source": [
    "把两个路径合成一个时，不要直接拼字符串，而要通过 os.path.join() 函数，这样可以正确处理不同操作系统的路 径分隔符"
   ]
  },
  {
   "cell_type": "code",
   "execution_count": 48,
   "metadata": {},
   "outputs": [
    {
     "data": {
      "text/plain": [
       "'F:\\\\Jupyter-notebook\\\\python-基础-datawhale\\\\testdir'"
      ]
     },
     "execution_count": 48,
     "metadata": {},
     "output_type": "execute_result"
    }
   ],
   "source": [
    "os.path.join('F:\\\\Jupyter-notebook\\\\python-基础-datawhale', 'testdir')   #  合并路径字符串， 产生路径"
   ]
  },
  {
   "cell_type": "markdown",
   "metadata": {},
   "source": [
    "同样的道理，要拆分路径时，也不要直接去拆字符串，而要通过 os.path.split() 函数，这样可以把一个路径拆分为 两部分，后一部分总是后级别的目录或文件名：\n"
   ]
  },
  {
   "cell_type": "code",
   "execution_count": 44,
   "metadata": {},
   "outputs": [
    {
     "data": {
      "text/plain": [
       "('F:\\\\Jupyter-notebook\\\\python-基础-datawhale', 'testdir')"
      ]
     },
     "execution_count": 44,
     "metadata": {},
     "output_type": "execute_result"
    }
   ],
   "source": [
    "os.path.split('F:\\\\Jupyter-notebook\\\\python-基础-datawhale\\\\testdir')   # 拆分路径"
   ]
  },
  {
   "cell_type": "code",
   "execution_count": 46,
   "metadata": {},
   "outputs": [],
   "source": [
    "os.mkdir('F:\\\\Jupyter-notebook\\\\python-基础-datawhale\\\\testdir')    # 创建路径"
   ]
  },
  {
   "cell_type": "code",
   "execution_count": 47,
   "metadata": {},
   "outputs": [],
   "source": [
    "os.rmdir('F:\\\\Jupyter-notebook\\\\python-基础-datawhale\\\\testdir')    # 删除路径"
   ]
  },
  {
   "cell_type": "code",
   "execution_count": 49,
   "metadata": {},
   "outputs": [],
   "source": [
    "os.rename('task4.txt', 'task4.py')   # 重命名"
   ]
  },
  {
   "cell_type": "code",
   "execution_count": 52,
   "metadata": {},
   "outputs": [
    {
     "ename": "FileNotFoundError",
     "evalue": "[WinError 2] 系统找不到指定的文件。: 'task4.py'",
     "output_type": "error",
     "traceback": [
      "\u001b[1;31m---------------------------------------------------------------------------\u001b[0m",
      "\u001b[1;31mFileNotFoundError\u001b[0m                         Traceback (most recent call last)",
      "\u001b[1;32m<ipython-input-52-908a0677b1e7>\u001b[0m in \u001b[0;36m<module>\u001b[1;34m\u001b[0m\n\u001b[1;32m----> 1\u001b[1;33m \u001b[0mos\u001b[0m\u001b[1;33m.\u001b[0m\u001b[0mremove\u001b[0m\u001b[1;33m(\u001b[0m\u001b[1;34m'task4.py'\u001b[0m\u001b[1;33m)\u001b[0m           \u001b[1;31m# 删除文件，如果文件不存在则报错\u001b[0m\u001b[1;33m\u001b[0m\u001b[1;33m\u001b[0m\u001b[0m\n\u001b[0m",
      "\u001b[1;31mFileNotFoundError\u001b[0m: [WinError 2] 系统找不到指定的文件。: 'task4.py'"
     ]
    }
   ],
   "source": [
    " os.remove('task4.py')           # 删除文件，如果文件不存在则报错"
   ]
  },
  {
   "cell_type": "code",
   "execution_count": null,
   "metadata": {},
   "outputs": [],
   "source": []
  }
 ],
 "metadata": {
  "kernelspec": {
   "display_name": "Python [conda env:root] *",
   "language": "python",
   "name": "conda-root-py"
  },
  "language_info": {
   "codemirror_mode": {
    "name": "ipython",
    "version": 3
   },
   "file_extension": ".py",
   "mimetype": "text/x-python",
   "name": "python",
   "nbconvert_exporter": "python",
   "pygments_lexer": "ipython3",
   "version": "3.7.3"
  },
  "toc": {
   "base_numbering": 1,
   "nav_menu": {},
   "number_sections": true,
   "sideBar": true,
   "skip_h1_title": true,
   "title_cell": "Table of Contents",
   "title_sidebar": "Contents",
   "toc_cell": false,
   "toc_position": {},
   "toc_section_display": true,
   "toc_window_display": true
  }
 },
 "nbformat": 4,
 "nbformat_minor": 2
}
