{
 "cells": [
  {
   "cell_type": "markdown",
   "metadata": {},
   "source": [
    "## dict字典"
   ]
  },
  {
   "cell_type": "markdown",
   "metadata": {},
   "source": [
    "### 定义"
   ]
  },
  {
   "cell_type": "markdown",
   "metadata": {},
   "source": [
    "字典 (dict) 采⽤用开放地址法的哈希表实现\n",
    "- 自带元素容量为 8 的 smalltable，只有 \"超出\" 时才到堆上额外分配元素表内存。\n",
    "- 虚拟机缓存 80 个字典复⽤用对象，但在堆上分配的元素表内存会被释放。\n",
    "- 按需动态调整容量。扩容或收缩操作都将重新分配内存，重新哈希。\n",
    "- 删除元素操作不会⽴立即收缩内存。 "
   ]
  },
  {
   "cell_type": "markdown",
   "metadata": {},
   "source": [
    "### 创建"
   ]
  },
  {
   "cell_type": "code",
   "execution_count": 2,
   "metadata": {},
   "outputs": [
    {
     "name": "stdout",
     "output_type": "stream",
     "text": [
      "<class 'dict'>\n",
      "{'a': 1, 'b': 2}\n",
      "{'a': 1, 'b': 2}\n",
      "{'a': 1, 'b': 2}\n",
      "{'a': 0, 'b': 1}\n",
      "{'a': 1, 'b': 1}\n",
      "{'a': 0, 'b': 1, 'c': 2}\n"
     ]
    }
   ],
   "source": [
    "a= {}              #空字典\n",
    "print(type(a))\n",
    "\n",
    "a = {\"a\":1, \"b\":2}   # 普通构造⽅方式 \n",
    "print(a)\n",
    "\n",
    "a = dict(a = 1, b = 2) # 构造\n",
    "print(a)\n",
    "\n",
    "a = dict(([\"a\", 1], [\"b\", 2]))  #用序列构造\n",
    "print(a)\n",
    "\n",
    "a = dict(zip(\"ab\", range(2)))  \n",
    "print(a)\n",
    "\n",
    "a = dict.fromkeys(\"ab\", 1)\n",
    "print(a)\n",
    "\n",
    "a = {k:v for k, v in zip(\"abc\", range(3))}# 使⽤用⽣生成表达式构造字典。 \n",
    "print(a)"
   ]
  },
  {
   "cell_type": "markdown",
   "metadata": {},
   "source": [
    "### 字典的方法"
   ]
  },
  {
   "cell_type": "code",
   "execution_count": 16,
   "metadata": {},
   "outputs": [
    {
     "name": "stdout",
     "output_type": "stream",
     "text": [
      "{'a': 1, 'b': 2}\n",
      "True\n",
      "{'a': 1}\n",
      "{'a': 1, 'c': 3}\n",
      "{'c': 3}\n",
      "{}\n"
     ]
    }
   ],
   "source": [
    "a = {\"a\":1, \"b\":2}  \n",
    "print(a)\n",
    "print(\"b\" in a) # in，判断元素是否存在\n",
    "\n",
    "del a[\"b\"]   # 删除元素\n",
    "print(a)\n",
    "\n",
    "a.update({\"c\":3})   # 合并dict\n",
    "print(a)\n",
    "\n",
    "a.pop(\"a\")   #弹出value\n",
    "print(a)\n",
    "\n",
    "a.popitem()   #弹出key:value\n",
    "print(a)"
   ]
  },
  {
   "cell_type": "code",
   "execution_count": 31,
   "metadata": {},
   "outputs": [
    {
     "name": "stdout",
     "output_type": "stream",
     "text": [
      "a = {'a': 1, 'b': 2}\n",
      "56\n",
      "1\n",
      "a = {'a': 1, 'b': 2, 'd': 3}\n",
      "dict_keys(['a', 'b', 'd'])\n",
      "dict_values([1, 2, 3])\n",
      "dict_items([('a', 1), ('b', 2), ('d', 3)])\n"
     ]
    }
   ],
   "source": [
    "a = {\"a\":1, \"b\":2} \n",
    "print(\"a =\",a)\n",
    "\n",
    "print(a.get(\"v\", 56))  #   D.get(k[,d])，如果D存在k,返回value；否则，返回d\n",
    "print(a.get(\"a\", 56))\n",
    "\n",
    "a.setdefault(\"d\",3)   #D.setdefault(k[,d]): 如果D存在k,返回value；否则，设置初始值\n",
    "print(\"a =\",a)\n",
    "\n",
    "print(a.keys())   # 迭代返回字典的keys\n",
    "\n",
    "print(a.values())   # 迭代返回字典的values\n",
    "\n",
    "print(a.items())   #迭代返回字典的key：value"
   ]
  },
  {
   "cell_type": "markdown",
   "metadata": {},
   "source": [
    "## 集合"
   ]
  },
  {
   "cell_type": "markdown",
   "metadata": {},
   "source": [
    "### 特性"
   ]
  },
  {
   "cell_type": "markdown",
   "metadata": {},
   "source": [
    "**set**和dict类似，也是一组key的集合，但不存储value。由于key不能重复，所以，在set中，没有重复的key。"
   ]
  },
  {
   "cell_type": "markdown",
   "metadata": {},
   "source": [
    "### 创建和方法"
   ]
  },
  {
   "cell_type": "markdown",
   "metadata": {},
   "source": [
    "- set这样不能有重复的value， 重复的value自动被过滤\n",
    "- add：添加元素\n",
    "- remove：删除元素"
   ]
  },
  {
   "cell_type": "code",
   "execution_count": 48,
   "metadata": {},
   "outputs": [
    {
     "name": "stdout",
     "output_type": "stream",
     "text": [
      "{1, 2, 3}\n",
      "{1, 2}\n",
      "{1, 2, 5}\n",
      "{2, 5}\n"
     ]
    },
    {
     "ename": "KeyError",
     "evalue": "8",
     "output_type": "error",
     "traceback": [
      "\u001b[1;31m---------------------------------------------------------------------------\u001b[0m",
      "\u001b[1;31mKeyError\u001b[0m                                  Traceback (most recent call last)",
      "\u001b[1;32m<ipython-input-48-9b21c79497f3>\u001b[0m in \u001b[0;36m<module>\u001b[1;34m()\u001b[0m\n\u001b[0;32m     11\u001b[0m \u001b[0mprint\u001b[0m\u001b[1;33m(\u001b[0m\u001b[0ms\u001b[0m\u001b[1;33m)\u001b[0m\u001b[1;33m\u001b[0m\u001b[1;33m\u001b[0m\u001b[0m\n\u001b[0;32m     12\u001b[0m \u001b[1;33m\u001b[0m\u001b[0m\n\u001b[1;32m---> 13\u001b[1;33m \u001b[0ms\u001b[0m\u001b[1;33m.\u001b[0m\u001b[0mremove\u001b[0m\u001b[1;33m(\u001b[0m\u001b[1;36m8\u001b[0m\u001b[1;33m)\u001b[0m\u001b[1;33m\u001b[0m\u001b[1;33m\u001b[0m\u001b[0m\n\u001b[0m\u001b[0;32m     14\u001b[0m \u001b[0mprint\u001b[0m\u001b[1;33m(\u001b[0m\u001b[0ms\u001b[0m\u001b[1;33m)\u001b[0m\u001b[1;33m\u001b[0m\u001b[1;33m\u001b[0m\u001b[0m\n",
      "\u001b[1;31mKeyError\u001b[0m: 8"
     ]
    }
   ],
   "source": [
    "s = set([1, 2, 3])   # 创建没有重复元素的集合\n",
    "print(s)\n",
    "\n",
    "s = set([1, 2, 2])   # 创建有重复元素的集合\n",
    "print(s)\n",
    "\n",
    "s.add(5)   # 添加元素\n",
    "print(s)\n",
    "\n",
    "s.remove(1)  # 删除元素\n",
    "print(s)\n",
    "\n",
    "s.remove(8)  # 删除不包含的元素\n",
    "print(s)"
   ]
  },
  {
   "cell_type": "markdown",
   "metadata": {},
   "source": [
    "## 判断语句"
   ]
  },
  {
   "cell_type": "markdown",
   "metadata": {},
   "source": [
    "### if语句"
   ]
  },
  {
   "cell_type": "markdown",
   "metadata": {},
   "source": [
    "根据Python的缩进规则：\n",
    "- 如果 if 语句判断是 True ，就把缩进的语句执行了；\n",
    "    - 如果没有else语句，什么也不做；\n",
    "    - 如果有else 语句，意思是，如果 if 判断是 False ，不要执行 if 的内容，去把 else 执行了；\n",
    "    - 如果是elif语句，则继续进行判断并嵌套执行。"
   ]
  },
  {
   "cell_type": "markdown",
   "metadata": {},
   "source": [
    "与c语言不同，**python 不存在switch语句**"
   ]
  },
  {
   "cell_type": "code",
   "execution_count": 50,
   "metadata": {},
   "outputs": [
    {
     "name": "stdout",
     "output_type": "stream",
     "text": [
      "优秀\n"
     ]
    }
   ],
   "source": [
    "a = 89\n",
    "if a<60:\n",
    "    print(\"不及格\")\n",
    "elif a<70:\n",
    "    print(\"及格\")\n",
    "elif a<80:\n",
    "    print(\"良好\")\n",
    "elif a<90:\n",
    "    print(\"优秀\")\n",
    "else:\n",
    "    print(\"厉害了\")"
   ]
  },
  {
   "cell_type": "markdown",
   "metadata": {},
   "source": [
    "## 三目表达式"
   ]
  },
  {
   "cell_type": "markdown",
   "metadata": {},
   "source": [
    "条件为真时的结果 if 判段的条件 else 条件为假时的结果 "
   ]
  },
  {
   "cell_type": "code",
   "execution_count": 57,
   "metadata": {},
   "outputs": [
    {
     "name": "stdout",
     "output_type": "stream",
     "text": [
      "56\n"
     ]
    }
   ],
   "source": [
    "a = 10\n",
    "b = 56\n",
    "max = a if a > b else b\n",
    "print(max)"
   ]
  },
  {
   "cell_type": "markdown",
   "metadata": {},
   "source": [
    "## 循环语句"
   ]
  },
  {
   "cell_type": "markdown",
   "metadata": {},
   "source": [
    "### for……in……"
   ]
  },
  {
   "cell_type": "markdown",
   "metadata": {},
   "source": [
    "Python的循环有两种，一种是for...in循环，每次循环依次把缩进后的代码执行一遍"
   ]
  },
  {
   "cell_type": "code",
   "execution_count": 53,
   "metadata": {},
   "outputs": [
    {
     "name": "stdout",
     "output_type": "stream",
     "text": [
      "1\n",
      "3\n",
      "6\n",
      "10\n",
      "15\n",
      "21\n",
      "28\n",
      "36\n",
      "45\n",
      "55\n"
     ]
    }
   ],
   "source": [
    "sum = 0 \n",
    "for x in [1, 2, 3, 4, 5, 6, 7, 8, 9, 10]:\n",
    "    sum = sum + x \n",
    "    print (sum)"
   ]
  },
  {
   "cell_type": "markdown",
   "metadata": {},
   "source": [
    "### while"
   ]
  },
  {
   "cell_type": "markdown",
   "metadata": {},
   "source": [
    "第二种循环是while循环，只要条件满足，就不断循环，条件不满足时退出循环。"
   ]
  },
  {
   "cell_type": "code",
   "execution_count": 55,
   "metadata": {},
   "outputs": [
    {
     "name": "stdout",
     "output_type": "stream",
     "text": [
      "2500\n"
     ]
    }
   ],
   "source": [
    "sum = 0 \n",
    "n = 99 \n",
    "while n > 0:    \n",
    "    sum = sum + n    \n",
    "    n = n - 2 \n",
    "print(sum)"
   ]
  }
 ],
 "metadata": {
  "kernelspec": {
   "display_name": "Python [conda env:tensorflow]",
   "language": "python",
   "name": "conda-env-tensorflow-py"
  },
  "language_info": {
   "codemirror_mode": {
    "name": "ipython",
    "version": 3
   },
   "file_extension": ".py",
   "mimetype": "text/x-python",
   "name": "python",
   "nbconvert_exporter": "python",
   "pygments_lexer": "ipython3",
   "version": "3.6.8"
  },
  "toc": {
   "base_numbering": 1,
   "nav_menu": {},
   "number_sections": true,
   "sideBar": true,
   "skip_h1_title": false,
   "title_cell": "Table of Contents",
   "title_sidebar": "Contents",
   "toc_cell": false,
   "toc_position": {
    "height": "calc(100% - 180px)",
    "left": "10px",
    "top": "150px",
    "width": "384px"
   },
   "toc_section_display": true,
   "toc_window_display": true
  }
 },
 "nbformat": 4,
 "nbformat_minor": 2
}
