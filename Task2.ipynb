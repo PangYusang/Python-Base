{
 "cells": [
  {
   "cell_type": "markdown",
   "metadata": {},
   "source": [
    "## 列表"
   ]
  },
  {
   "cell_type": "markdown",
   "metadata": {},
   "source": [
    "**列表List**是一种有序的集合，可以随时添加和删除其中的元素。"
   ]
  },
  {
   "cell_type": "markdown",
   "metadata": {},
   "source": [
    "### 标志"
   ]
  },
  {
   "cell_type": "markdown",
   "metadata": {},
   "source": [
    "项目的列表应该用方括号**[]**括起来，这样Python才能理解你正在指定一张列表。"
   ]
  },
  {
   "cell_type": "markdown",
   "metadata": {},
   "source": [
    "### 基本操作(创建，append( )，pop( ) ,del( ), 拷贝）"
   ]
  },
  {
   "cell_type": "markdown",
   "metadata": {},
   "source": [
    "- append():在list最后接入新的元素\n",
    "- pop()：不指定元素时，默认删除最后一个元素；指定pop(i)时，删除第i个元素\n",
    "- del(): 不指定元素时，默认删除最后整个列表，；指定del(i)时，删除第i个元素\n",
    "- copy():复制并创建一个list，重新开创一个内存；与原来的list不指向同一个内存空间"
   ]
  },
  {
   "cell_type": "code",
   "execution_count": 64,
   "metadata": {},
   "outputs": [
    {
     "name": "stdout",
     "output_type": "stream",
     "text": [
      "<class 'list'>\n",
      "a = []\n",
      "['dog', 'pig', 'monkey']\n",
      "['dog', 'pig', 'monkey', 'tiger']\n",
      "['asd', 1, '232', 'waiter', 5959]\n",
      "['asd', 1, 'waiter', 5959]\n",
      "['asd', 1, 'waiter']\n",
      "['asd', 1, 'waiter']\n",
      "['asd', 1, 'waiter', 11111]\n",
      "['asd', 1, 'waiter']\n"
     ]
    }
   ],
   "source": [
    "a = [] # 创建空列表\n",
    "print(type(a))\n",
    "print('a =',a)\n",
    "\n",
    "namelist1 = ['dog', 'pig', 'monkey']  # 创建列表按\n",
    "print(namelist1)\n",
    "\n",
    "namelist1.append('tiger')   # append 在list后面加一个新的元素\n",
    "print(namelist1)\n",
    "\n",
    "mixlist = ['asd', 1, '232', 'waiter', 5959]\n",
    "print(mixlist)\n",
    "\n",
    "del(mixlist[2])\n",
    "print(mixlist)\n",
    "\n",
    "mixlist.pop()\n",
    "print(mixlist)\n",
    "\n",
    "copy_mixlist = mixlist.copy()\n",
    "print(copy_mixlist)\n",
    "\n",
    "copy_mixlist.append(11111)\n",
    "print(copy_mixlist)\n",
    "print(mixlist)"
   ]
  },
  {
   "cell_type": "markdown",
   "metadata": {},
   "source": [
    "### 列表相关方法"
   ]
  },
  {
   "cell_type": "markdown",
   "metadata": {},
   "source": [
    "- len():   列表长度,☞元素的个数\n",
    "- list[i]:  列表索引，索引似乎用方括号，index为负数时为倒数第几个元素。\n",
    "- sort()：  排序，\n",
    "- insert(): 插入元素，在指定的index后插入元素\n",
    "- clear()： 清除列表中的所有元素\n",
    "- count(''):计算列表list中指定元素的个数\n",
    "- extend(): 合并字符串/列表list\n",
    "- index(''):返回指定的元素对应的索引值\n",
    "- remove(''):删除第一个指定的元素\n",
    "- reverse():将所有元素的顺序颠倒"
   ]
  },
  {
   "cell_type": "code",
   "execution_count": 83,
   "metadata": {},
   "outputs": [
    {
     "name": "stdout",
     "output_type": "stream",
     "text": [
      "length of namelist is 3\n",
      "dog\n",
      "pig\n",
      "monkey\n",
      "monkey\n",
      "pig\n",
      "dog\n",
      "['dog', 'monkey', 'pig']\n",
      "['dog', 'monkey', 'lion', 'pig']\n",
      "[]\n",
      "2\n",
      "1\n",
      "['dog', 'pig', 'monkey', 'dog', 1, '1']\n",
      "1\n",
      "['pig', 'monkey', 'dog', 1, '1']\n",
      "['1', 1, 'dog', 'monkey', 'pig']\n"
     ]
    }
   ],
   "source": [
    "namelist1 = ['dog', 'pig', 'monkey']\n",
    "print('length of namelist is', len(namelist1))\n",
    "\n",
    "for i in range(len(namelist1)):\n",
    "    print(namelist1[i])\n",
    "\n",
    "for i in range(len(namelist1)):\n",
    "    print(namelist1[-i-1])\n",
    "\n",
    "namelist1.sort()\n",
    "print(namelist1)\n",
    "\n",
    "namelist1.insert(2, 'lion')\n",
    "print(namelist1)\n",
    "\n",
    "namelist1.clear()\n",
    "print(namelist1)\n",
    "\n",
    "namelist1 = ['dog', 'pig', 'monkey', 'dog']\n",
    "print(namelist1.count('dog'))\n",
    "print(namelist1.count('pig'))\n",
    "\n",
    "namelist1.extend([1, '1'])\n",
    "print(namelist1)\n",
    "\n",
    "print(namelist1.index('pig'))\n",
    "\n",
    "namelist1.remove('dog')\n",
    "print(namelist1)\n",
    "\n",
    "namelist1.reverse()\n",
    "print(namelist1)"
   ]
  },
  {
   "cell_type": "markdown",
   "metadata": {},
   "source": [
    "## 元组"
   ]
  },
  {
   "cell_type": "markdown",
   "metadata": {},
   "source": [
    "另一种有序列表叫元组：tuple。tuple和list非常类似，但是tuple一旦初始化就不能修改，比如同样是列出动物的名字："
   ]
  },
  {
   "cell_type": "code",
   "execution_count": 86,
   "metadata": {},
   "outputs": [],
   "source": [
    "namelist1 = ('dog', 'pig', 'monkey')"
   ]
  },
  {
   "cell_type": "markdown",
   "metadata": {},
   "source": [
    "- 现在，namelist1这个tuple不能变了，它也没有append()，insert()这样的方法。其他获取元素的方法和list是一样 的，你可以正常地使用 namelist1[0] ， namelist1[‐1] ，但不能赋值成另外的元素。\n",
    "- 不可变的tuple有什么意义？因为tuple不可变，所以代码更安全。如果可能，能用tuple代替list就尽量用tuple。"
   ]
  },
  {
   "cell_type": "markdown",
   "metadata": {},
   "source": [
    "### 标志"
   ]
  },
  {
   "cell_type": "markdown",
   "metadata": {},
   "source": [
    "- 如果要定义一个空的tuple，可以写成 () ：\n",
    "\n",
    "- 只有1个元素的tuple定义时必须加一个逗号 , ，来消除歧义：\n",
    "    - 定义的不是tuple，是 1 这个数！这是因为括号 () 既可以表示tuple，又可以表示数学公式中的小括号，这就产生了 歧义，因此，Python规定，这种情况下，按小括号进行计算，计算结果自然是 1 。\n"
   ]
  },
  {
   "cell_type": "code",
   "execution_count": 89,
   "metadata": {},
   "outputs": [
    {
     "name": "stdout",
     "output_type": "stream",
     "text": [
      "<class 'tuple'>\n",
      "<class 'int'>\n",
      "<class 'tuple'>\n"
     ]
    }
   ],
   "source": [
    "a = ()\n",
    "print(type(a))\n",
    "\n",
    "a = (1)\n",
    "print(type(a))\n",
    "\n",
    "a = (1,)\n",
    "print(type(a))"
   ]
  },
  {
   "cell_type": "markdown",
   "metadata": {},
   "source": [
    "当元组中包换有列表时，列表中的元素可以被改变，"
   ]
  },
  {
   "cell_type": "code",
   "execution_count": 90,
   "metadata": {},
   "outputs": [
    {
     "name": "stdout",
     "output_type": "stream",
     "text": [
      "(45, 89, ['we', 'weqw'])\n",
      "(45, 89, ['we', 'weqw', '23'])\n"
     ]
    }
   ],
   "source": [
    "a = (45, 89, ['we','weqw'])\n",
    "print(a)\n",
    "\n",
    "a[2].append('23')\n",
    "print(a)"
   ]
  },
  {
   "cell_type": "markdown",
   "metadata": {},
   "source": [
    "### 基本操作"
   ]
  },
  {
   "cell_type": "markdown",
   "metadata": {},
   "source": [
    "元组与列表相比，由于其只读 的特性，导致其只有统计等功能的操作，count()和index()"
   ]
  },
  {
   "cell_type": "code",
   "execution_count": 98,
   "metadata": {},
   "outputs": [
    {
     "name": "stdout",
     "output_type": "stream",
     "text": [
      "(56, 0.6595, 'weqw', 'ajsod', 56)\n",
      "2\n",
      "2\n"
     ]
    }
   ],
   "source": [
    "a = (56, 0.6595, 'weqw', 'ajsod', 56)\n",
    "print(a)\n",
    "\n",
    "print(a.count(56))\n",
    "print(a.index('weqw'))"
   ]
  },
  {
   "cell_type": "markdown",
   "metadata": {},
   "source": [
    "## string字符串"
   ]
  },
  {
   "cell_type": "markdown",
   "metadata": {},
   "source": [
    "字符串常量定义简单⾃自由，可以是单引号、双引号或三引号。但我个⼈人建议⽤用双引号表⽰示字符串， ⽤用单引号表⽰示字符，和其他语⾔言习惯保持⼀一致。"
   ]
  },
  {
   "cell_type": "markdown",
   "metadata": {},
   "source": [
    "### 定义及基本操作（+，*，读取方式）"
   ]
  },
  {
   "cell_type": "markdown",
   "metadata": {},
   "source": [
    "- +:连接字符串\n",
    "- *：重复字符串"
   ]
  },
  {
   "cell_type": "code",
   "execution_count": 104,
   "metadata": {},
   "outputs": [
    {
     "name": "stdout",
     "output_type": "stream",
     "text": [
      "ab\n",
      "aaaaaaaaaaaaaaaaaaaaaaaaaaaaaa\n"
     ]
    }
   ],
   "source": [
    "print(\"a\" + \"b\")\n",
    "\n",
    "print(\"a\" * 30)"
   ]
  },
  {
   "cell_type": "markdown",
   "metadata": {},
   "source": [
    "### 字符串相关方法"
   ]
  },
  {
   "cell_type": "markdown",
   "metadata": {},
   "source": [
    "## 字符串格式化问题"
   ]
  },
  {
   "cell_type": "markdown",
   "metadata": {},
   "source": [
    "Python 提供了两种字符串格式化⽅方法，除了熟悉的 C 样式外，还有更强⼤大的 format。\n"
   ]
  },
  {
   "cell_type": "markdown",
   "metadata": {},
   "source": [
    "### %输出方式"
   ]
  },
  {
   "cell_type": "markdown",
   "metadata": {},
   "source": [
    "%[(name)][flags][width][.precision]typecode\n",
    "- name: 可选，用于指定key\n",
    "- flags：\n",
    "    - +：右对齐：正负数均加符号\n",
    "    - -：左对齐：证书前不加符合，负数前加符号\n",
    "- width：宽度\n",
    "- 小数点后保留的位数\n",
    "- typecode：\n",
    "    - s：字符串\n",
    "    - r：repr格式\n",
    "    - c：整数\n",
    "    - x：16进制\n",
    "    - d：整数，10进制"
   ]
  },
  {
   "cell_type": "code",
   "execution_count": 110,
   "metadata": {},
   "outputs": [
    {
     "data": {
      "text/plain": [
       "'亲爱的叶良辰，您好。你的银行卡余额为 10000000000000.'"
      ]
     },
     "execution_count": 110,
     "metadata": {},
     "output_type": "execute_result"
    }
   ],
   "source": [
    "\"亲爱的%s，您好。你的银行卡余额为 %d.\" % ('叶良辰', 10000000000000)"
   ]
  },
  {
   "cell_type": "markdown",
   "metadata": {},
   "source": [
    "### format方式"
   ]
  },
  {
   "cell_type": "code",
   "execution_count": 113,
   "metadata": {},
   "outputs": [
    {
     "data": {
      "text/plain": [
       "'亲爱的, python,您好。您的银行卡余额为16555555555555555555'"
      ]
     },
     "execution_count": 113,
     "metadata": {},
     "output_type": "execute_result"
    }
   ],
   "source": [
    "s = '亲爱的, {},您好。您的银行卡余额为{}'.format('python', 16555555555555555555 )\n",
    "s"
   ]
  }
 ],
 "metadata": {
  "kernelspec": {
   "display_name": "Python 3",
   "language": "python",
   "name": "python3"
  },
  "language_info": {
   "codemirror_mode": {
    "name": "ipython",
    "version": 3
   },
   "file_extension": ".py",
   "mimetype": "text/x-python",
   "name": "python",
   "nbconvert_exporter": "python",
   "pygments_lexer": "ipython3",
   "version": "3.6.8"
  },
  "toc": {
   "base_numbering": 1,
   "nav_menu": {},
   "number_sections": true,
   "sideBar": true,
   "skip_h1_title": false,
   "title_cell": "Table of Contents",
   "title_sidebar": "Contents",
   "toc_cell": false,
   "toc_position": {
    "height": "calc(100% - 180px)",
    "left": "10px",
    "top": "150px",
    "width": "380.797px"
   },
   "toc_section_display": true,
   "toc_window_display": true
  }
 },
 "nbformat": 4,
 "nbformat_minor": 2
}
