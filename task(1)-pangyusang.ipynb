{
 "cells": [
  {
   "cell_type": "markdown",
   "metadata": {},
   "source": [
    "# Python基础第八期-Task(1)"
   ]
  },
  {
   "cell_type": "markdown",
   "metadata": {},
   "source": [
    "## 环境搭建"
   ]
  },
  {
   "cell_type": "markdown",
   "metadata": {},
   "source": [
    "### Anaconda环境安装"
   ]
  },
  {
   "cell_type": "markdown",
   "metadata": {},
   "source": [
    "- 由于直接安装[python官网](https://www.python.org/)的安装包，主要起到一个解释器的作用，因此还需要自己进行扩展包的管理。\n",
    "- 主要参考借鉴教程-[Anaconda完全入门指南](https://www.jianshu.com/p/eaee1fadc1e9)和[Anaconda介绍、安装及使用教程](https://www.jianshu.com/p/62f155eb6ac5)完成anaconda的安装\n",
    "- jupyter notebook可以对于先学习python基础有较好的效果展示，安装anaconda后进行jupyter notebook 的安装和配置.参考[Jupyter Notebook 超实用的 5 个插件，值得一试！](https://blog.csdn.net/weixin_33671935/article/details/85181176)"
   ]
  },
  {
   "cell_type": "markdown",
   "metadata": {},
   "source": [
    "### 解释器"
   ]
  },
  {
   "cell_type": "markdown",
   "metadata": {},
   "source": [
    "**Python**是一门解释型语言，代码想运行，必须通过解释器执行，Python的解释器本身也可以看作是个程序（翻译官是是哪国人不重要），这个程序是什么语言开发的呢？ 答案是好几种语言？ what? 因为Python有好几种解释器，分别基于不同语言开发，每个解释器特点不同，但都能正常运行我们的Python代码，下面分别来看下各种不同类型的Python解释器的区别。\n",
    "*****\n",
    "- **CPython**:当我们从Python官方网站下载并安装好Python后，我们就直接获得了一个官方版本的解释器：CPython。这个解释器是用C语言开发的，所以叫CPython。在命令行下运行python就是启动CPython解释器。\n",
    "- **IPython**：是基于CPython之上的一个交互式解释器，也就是说，IPython只是在交互方式上有所增强，但是执行Python代码的功能和CPython是完全一样的。好比很多国产浏览器虽然外观不同，但内核其实都是调用了IE。CPython用>>>作为提示符，而IPython用In [序号]:作为提示符。\n",
    "- **PyPy**是另一个Python解释器，它的目标是执行速度。PyPy采用JIT(Just In Time)技术，对Python代码进行动态编译（注意不是解释），所以可以显著提高Python代码的执行速度。绝大部分Python代码都可以在PyPy下运行，但是PyPy和CPython有一些是不同的，这就导致相同的Python代码在两种解释器下执行可能会有不同的结果。如果你的代码要放到PyPy下执行，就需要了解PyPy和CPython的不同点。\n",
    "- **Jython**是运行在Java平台上的Python解释器，可以直接把Python代码编译成Java字节码执行。\n",
    "- **IronPython**和Jython类似，只不过IronPython是运行在微软.Net平台上的Python解释器，可以直接把Python代码编译成.Net的字节码。"
   ]
  },
  {
   "cell_type": "markdown",
   "metadata": {},
   "source": [
    "解释器|应用特性|备注\n",
    "---|:--:|---:\n",
    "CPython|使用C语言开发|一般官方python包\n",
    "IPython|基于CPython，增强交互性|提示符为In[序号]\n",
    "PyPy|动态编译、JIT技术、提升执行速度|执行结果与CPython不同\n",
    "Jython|运行于Java平台，编译为字节码|\n",
    "IronPython|运行于.NET平台，编译为字节码|"
   ]
  },
  {
   "cell_type": "markdown",
   "metadata": {},
   "source": [
    "## python初体验"
   ]
  },
  {
   "cell_type": "markdown",
   "metadata": {},
   "source": [
    "### print"
   ]
  },
  {
   "cell_type": "markdown",
   "metadata": {},
   "source": [
    "**python3**的print函数输出，函数原型为 print(*objects, sep=' ', end='\\n', file=sys.stdout, flush=False)：\n",
    "其中：objects中每一个对象都会被转化为string的形式；然后写到file指定的文件中，默认是标准输出（sys.stdout）；每一个对象之间用sep分隔，默认是空格；所有对象都写到文件后，会写入end；默认是换行。"
   ]
  },
  {
   "cell_type": "code",
   "execution_count": null,
   "metadata": {},
   "outputs": [],
   "source": [
    "输出字符'hello world',"
   ]
  },
  {
   "cell_type": "code",
   "execution_count": 8,
   "metadata": {},
   "outputs": [
    {
     "name": "stdout",
     "output_type": "stream",
     "text": [
      "hello world\n"
     ]
    }
   ],
   "source": [
    "print ('hello world')"
   ]
  },
  {
   "cell_type": "markdown",
   "metadata": {},
   "source": [
    "格式化输出：\n",
    "- s: 字符串\n",
    "- d: 有符号十进制， %06d 表示输出的整数显示位数字,不足的地方使用0 补全\n",
    "- f：浮点数， %.02f 表示小数点后只显示两位\n",
    "- %%：输出%"
   ]
  },
  {
   "cell_type": "code",
   "execution_count": 39,
   "metadata": {},
   "outputs": [
    {
     "name": "stdout",
     "output_type": "stream",
     "text": [
      "151981.1892 \n"
     ]
    }
   ],
   "source": [
    "print (\"%.4f \" % (151981.18919))"
   ]
  },
  {
   "cell_type": "markdown",
   "metadata": {},
   "source": [
    "### input"
   ]
  },
  {
   "cell_type": "code",
   "execution_count": 56,
   "metadata": {},
   "outputs": [
    {
     "name": "stdout",
     "output_type": "stream",
     "text": [
      "输出付款密码：666666\n"
     ]
    },
    {
     "data": {
      "text/plain": [
       "'666666'"
      ]
     },
     "execution_count": 56,
     "metadata": {},
     "output_type": "execute_result"
    }
   ],
   "source": [
    "input('输出付款密码：')"
   ]
  },
  {
   "cell_type": "code",
   "execution_count": 57,
   "metadata": {},
   "outputs": [
    {
     "name": "stdout",
     "output_type": "stream",
     "text": [
      "输出付款密码：666666\n"
     ]
    },
    {
     "data": {
      "text/plain": [
       "666666"
      ]
     },
     "execution_count": 57,
     "metadata": {},
     "output_type": "execute_result"
    }
   ],
   "source": [
    "int(input('输出付款密码：'))"
   ]
  },
  {
   "cell_type": "markdown",
   "metadata": {},
   "source": [
    "- input()用于读取键盘输入，可以定义字符串作为提示；\n",
    "- 可以看出input()返回值为字符串，可以用int(input())转换格式。"
   ]
  },
  {
   "cell_type": "markdown",
   "metadata": {},
   "source": [
    "## python基础讲解"
   ]
  },
  {
   "cell_type": "markdown",
   "metadata": {},
   "source": [
    "### python变量特性+命名规则"
   ]
  },
  {
   "cell_type": "markdown",
   "metadata": {},
   "source": [
    "Python变量特性：\n",
    "- 在Python中，每个变量在使用之前都必须赋值，变量只有在赋值之后才会被创建。\n",
    "- 使用=可以给变量赋值。\n",
    "- =左边是变量名，=右边是变量的值。\n",
    "定义之后就可以正常使用了"
   ]
  },
  {
   "cell_type": "code",
   "execution_count": 29,
   "metadata": {},
   "outputs": [
    {
     "ename": "NameError",
     "evalue": "name 'dssd' is not defined",
     "output_type": "error",
     "traceback": [
      "\u001b[1;31m---------------------------------------------------------------------------\u001b[0m",
      "\u001b[1;31mNameError\u001b[0m                                 Traceback (most recent call last)",
      "\u001b[1;32m<ipython-input-29-f08ed94ede23>\u001b[0m in \u001b[0;36m<module>\u001b[1;34m()\u001b[0m\n\u001b[1;32m----> 1\u001b[1;33m \u001b[0mdssd\u001b[0m\u001b[1;33m\u001b[0m\u001b[1;33m\u001b[0m\u001b[0m\n\u001b[0m",
      "\u001b[1;31mNameError\u001b[0m: name 'dssd' is not defined"
     ]
    }
   ],
   "source": [
    "dssd"
   ]
  },
  {
   "cell_type": "markdown",
   "metadata": {},
   "source": [
    "Python变量命名规则:\n",
    "- 变量名只能包含字母、数字和下划线。变量名可以字母或下划线开头，但不能以数字开头，例如，可将变量命名为message_1，但不能将其命名为1_message。\n",
    "- 变量名不能包含空格，但可使用下划线来分隔其中的单词。例如，变量名greeting_message可行，但变量名greeting message会引发错误。\n",
    "- 不要将Python关键字和函数名用作变量名，即不要使用Python保留用于特殊用途的单词，如print。\n",
    "- 变量名应既简短又具有描述性。例如，name比n好，student_name比s_n好，name_length比length_of_persons_name好。\n",
    "- 慎用小写字母l和大写字母O，因给他们可能被人错看成数字1和0；"
   ]
  },
  {
   "cell_type": "markdown",
   "metadata": {},
   "source": [
    "### 注释方法"
   ]
  },
  {
   "cell_type": "markdown",
   "metadata": {},
   "source": [
    "python的注释包括多种方法：\n",
    "1. 单行注释：#-右侧的部分不会被执行，**不支持跨行**\n",
    "2. 多行注释：\"\"\".....\"\"\"三引号中可以指定多行注释"
   ]
  },
  {
   "cell_type": "code",
   "execution_count": 38,
   "metadata": {},
   "outputs": [],
   "source": [
    "# print(1+3)"
   ]
  },
  {
   "cell_type": "markdown",
   "metadata": {},
   "source": [
    "注释的用途：\n",
    "- 解释原因、目的；\n",
    "- 说明你想要解决的问题；\n",
    "- 说明特有的逻辑，等。"
   ]
  },
  {
   "cell_type": "markdown",
   "metadata": {},
   "source": [
    "### python中“：”作用"
   ]
  },
  {
   "cell_type": "markdown",
   "metadata": {},
   "source": [
    "- ：出现在函数定义语句末尾、if for while语句末尾，表示下面的代码块应当缩进，从属于if for while语句\n",
    "- ：出现在字典定义当中用于分开键和值\n",
    "- ：出现在[]中为切片索引"
   ]
  },
  {
   "cell_type": "markdown",
   "metadata": {},
   "source": [
    "### 使用dir( )及和help( )"
   ]
  },
  {
   "cell_type": "markdown",
   "metadata": {},
   "source": [
    "Python 非常方便，它不需要用户查询文档，只需掌握如下两个帮助函数，即可查看 Python 中的所有函数（方法）以及它们的用法和功能： \n",
    "- dir()：列出指定类或模块包含的全部内容（包括函数、方法、类、变量等）。\n",
    "- help()：查看某个函数或方法的帮助文档。"
   ]
  },
  {
   "cell_type": "code",
   "execution_count": 34,
   "metadata": {
    "scrolled": true
   },
   "outputs": [
    {
     "data": {
      "text/plain": [
       "['__add__',\n",
       " '__class__',\n",
       " '__contains__',\n",
       " '__delattr__',\n",
       " '__dir__',\n",
       " '__doc__',\n",
       " '__eq__',\n",
       " '__format__',\n",
       " '__ge__',\n",
       " '__getattribute__',\n",
       " '__getitem__',\n",
       " '__getnewargs__',\n",
       " '__gt__',\n",
       " '__hash__',\n",
       " '__init__',\n",
       " '__init_subclass__',\n",
       " '__iter__',\n",
       " '__le__',\n",
       " '__len__',\n",
       " '__lt__',\n",
       " '__mod__',\n",
       " '__mul__',\n",
       " '__ne__',\n",
       " '__new__',\n",
       " '__reduce__',\n",
       " '__reduce_ex__',\n",
       " '__repr__',\n",
       " '__rmod__',\n",
       " '__rmul__',\n",
       " '__setattr__',\n",
       " '__sizeof__',\n",
       " '__str__',\n",
       " '__subclasshook__',\n",
       " 'capitalize',\n",
       " 'casefold',\n",
       " 'center',\n",
       " 'count',\n",
       " 'encode',\n",
       " 'endswith',\n",
       " 'expandtabs',\n",
       " 'find',\n",
       " 'format',\n",
       " 'format_map',\n",
       " 'index',\n",
       " 'isalnum',\n",
       " 'isalpha',\n",
       " 'isdecimal',\n",
       " 'isdigit',\n",
       " 'isidentifier',\n",
       " 'islower',\n",
       " 'isnumeric',\n",
       " 'isprintable',\n",
       " 'isspace',\n",
       " 'istitle',\n",
       " 'isupper',\n",
       " 'join',\n",
       " 'ljust',\n",
       " 'lower',\n",
       " 'lstrip',\n",
       " 'maketrans',\n",
       " 'partition',\n",
       " 'replace',\n",
       " 'rfind',\n",
       " 'rindex',\n",
       " 'rjust',\n",
       " 'rpartition',\n",
       " 'rsplit',\n",
       " 'rstrip',\n",
       " 'split',\n",
       " 'splitlines',\n",
       " 'startswith',\n",
       " 'strip',\n",
       " 'swapcase',\n",
       " 'title',\n",
       " 'translate',\n",
       " 'upper',\n",
       " 'zfill']"
      ]
     },
     "execution_count": 34,
     "metadata": {},
     "output_type": "execute_result"
    }
   ],
   "source": [
    "dir(str)"
   ]
  },
  {
   "cell_type": "code",
   "execution_count": 36,
   "metadata": {
    "scrolled": true
   },
   "outputs": [
    {
     "name": "stdout",
     "output_type": "stream",
     "text": [
      "Help on built-in function print in module builtins:\n",
      "\n",
      "print(...)\n",
      "    print(value, ..., sep=' ', end='\\n', file=sys.stdout, flush=False)\n",
      "    \n",
      "    Prints the values to a stream, or to sys.stdout by default.\n",
      "    Optional keyword arguments:\n",
      "    file:  a file-like object (stream); defaults to the current sys.stdout.\n",
      "    sep:   string inserted between values, default a space.\n",
      "    end:   string appended after the last value, default a newline.\n",
      "    flush: whether to forcibly flush the stream.\n",
      "\n"
     ]
    }
   ],
   "source": [
    "help(print)"
   ]
  },
  {
   "cell_type": "markdown",
   "metadata": {},
   "source": [
    "### import使用"
   ]
  },
  {
   "cell_type": "markdown",
   "metadata": {},
   "source": [
    "Python语言中import的使用主要分为两种方法：\n",
    "1. import module_name(as new_name)；\n",
    "2. from module_name import sub_module_name"
   ]
  },
  {
   "cell_type": "markdown",
   "metadata": {},
   "source": [
    "**import**的本质的搜索vmodule_name.py文件\n",
    "模块的分类：\n",
    "1. 内建模块：可以通过 \"dir(__builtins__)\" 查看Python中的内建函数，非内建函数需要使用\"import\"导入。Python中的模块文件在\"安装路径\\Python\\Python35\\Lib\"目录下；\n",
    "2. 第三方模块：通过\"pip install \"命令安装的模块，以及自己在网站上下载的模块。一般第三方模块在\"安装路径\\Python\\Python35\\Lib\\site-packages\"目录下；\n",
    "3. 自定义模块"
   ]
  },
  {
   "cell_type": "code",
   "execution_count": 3,
   "metadata": {},
   "outputs": [],
   "source": [
    "import numpy as np\n",
    "from skimage import color"
   ]
  },
  {
   "cell_type": "markdown",
   "metadata": {},
   "source": [
    "### pep8介绍"
   ]
  },
  {
   "cell_type": "markdown",
   "metadata": {},
   "source": [
    "PEP8是Python的编码规范，其中心在于提高代码的可读性。主要对一下内容进行了规定：\n",
    "1. 代码排版\n",
    "    1. 保持每行缩进使用4个空格（不能混用tab和空格，默认会全部转换为空格）\n",
    "    2. 一行的最大长度为79个字符，(文档字符串或注释不超过72个字符)；窗口显示限制，默认换行会打断代码结构\n",
    "    3. 换行首选括号，再是反斜杠。换行点在操作符后敲回车            \n",
    "    4. 顶层函数与类之间空两行，类方法之间空一行，函数内部不同逻辑段之间空一行\n",
    "2. 文档排版\n",
    "3. 避免多余空格\n",
    "4. 注释\n",
    "5. 命名风格\n",
    "6. 命名规范\n",
    "7. 编码建议"
   ]
  },
  {
   "cell_type": "markdown",
   "metadata": {},
   "source": [
    "## python数值基本知识"
   ]
  },
  {
   "cell_type": "markdown",
   "metadata": {},
   "source": [
    "### python中数值类型，int，float，bool，e记法等"
   ]
  },
  {
   "cell_type": "markdown",
   "metadata": {},
   "source": [
    "Python3 的数值类型支持 int、float、bool、complex（复数）。 \n",
    "- 在Python 3里，只有一种整数类型 int，表示为长整型，没有 python2 中的 Long。\n",
    "- 浮点型类型float\n",
    "- bool布尔类型\n",
    "- e复数类型：复数由实数部分和虚数部分构成，可以用a + bj,或者complex(a,b)表示， 复数的实部a和虚部b都是浮点型"
   ]
  },
  {
   "cell_type": "code",
   "execution_count": 18,
   "metadata": {},
   "outputs": [
    {
     "name": "stdout",
     "output_type": "stream",
     "text": [
      "<class 'int'> <class 'float'> <class 'float'> <class 'bool'> <class 'complex'>\n"
     ]
    }
   ],
   "source": [
    "a = 56\n",
    "b = 56.0\n",
    "c = 12.36\n",
    "d = True\n",
    "e = 5+4j\n",
    "print(type(a), type(b), type(c), type(d), type(e))"
   ]
  },
  {
   "cell_type": "markdown",
   "metadata": {},
   "source": [
    "### 算术运算符"
   ]
  },
  {
   "cell_type": "markdown",
   "metadata": {},
   "source": [
    "运算符|目数|作用|缺省情况|\n",
    "---|:--:|:---:|---:|\n",
    "+|2|相加|前操作数不存在，假定为0，后操作数不可缺省\n",
    "-|2|相减|前操作数不存在，假定为0，后操作数不可缺省，为负数\n",
    "*|2|相乘|前后都不可缺少\n",
    "/|2|相除|前后都不可缺少\n",
    "**|2|乘方|前后都不可缺少\n",
    "//|2|整除|前后都不可缺少\n",
    "%|2|取模（余数）|前后都不可缺少\n",
    "<<|2|左移|前后都不可缺少\n",
    ">>|2|右移|前后都不可缺少"
   ]
  },
  {
   "cell_type": "code",
   "execution_count": 30,
   "metadata": {},
   "outputs": [
    {
     "ename": "SyntaxError",
     "evalue": "invalid syntax (<ipython-input-30-cf33ac9b35be>, line 1)",
     "output_type": "error",
     "traceback": [
      "\u001b[1;36m  File \u001b[1;32m\"<ipython-input-30-cf33ac9b35be>\"\u001b[1;36m, line \u001b[1;32m1\u001b[0m\n\u001b[1;33m    >>2\u001b[0m\n\u001b[1;37m     ^\u001b[0m\n\u001b[1;31mSyntaxError\u001b[0m\u001b[1;31m:\u001b[0m invalid syntax\n"
     ]
    }
   ],
   "source": [
    ">>2"
   ]
  },
  {
   "cell_type": "code",
   "execution_count": 17,
   "metadata": {},
   "outputs": [
    {
     "ename": "SyntaxError",
     "evalue": "invalid syntax (<ipython-input-17-12a27cc5798a>, line 1)",
     "output_type": "error",
     "traceback": [
      "\u001b[1;36m  File \u001b[1;32m\"<ipython-input-17-12a27cc5798a>\"\u001b[1;36m, line \u001b[1;32m1\u001b[0m\n\u001b[1;33m    +2;2+;2-\u001b[0m\n\u001b[1;37m         ^\u001b[0m\n\u001b[1;31mSyntaxError\u001b[0m\u001b[1;31m:\u001b[0m invalid syntax\n"
     ]
    }
   ],
   "source": [
    "+2"
   ]
  },
  {
   "cell_type": "code",
   "execution_count": 11,
   "metadata": {},
   "outputs": [
    {
     "ename": "SyntaxError",
     "evalue": "invalid syntax (<ipython-input-11-7abc0cc8302a>, line 1)",
     "output_type": "error",
     "traceback": [
      "\u001b[1;36m  File \u001b[1;32m\"<ipython-input-11-7abc0cc8302a>\"\u001b[1;36m, line \u001b[1;32m1\u001b[0m\n\u001b[1;33m    2+\u001b[0m\n\u001b[1;37m      ^\u001b[0m\n\u001b[1;31mSyntaxError\u001b[0m\u001b[1;31m:\u001b[0m invalid syntax\n"
     ]
    }
   ],
   "source": [
    "2+"
   ]
  },
  {
   "cell_type": "code",
   "execution_count": 12,
   "metadata": {},
   "outputs": [
    {
     "ename": "SyntaxError",
     "evalue": "invalid syntax (<ipython-input-12-2a629fd25659>, line 1)",
     "output_type": "error",
     "traceback": [
      "\u001b[1;36m  File \u001b[1;32m\"<ipython-input-12-2a629fd25659>\"\u001b[1;36m, line \u001b[1;32m1\u001b[0m\n\u001b[1;33m    1-\u001b[0m\n\u001b[1;37m      ^\u001b[0m\n\u001b[1;31mSyntaxError\u001b[0m\u001b[1;31m:\u001b[0m invalid syntax\n"
     ]
    }
   ],
   "source": [
    "1-"
   ]
  },
  {
   "cell_type": "code",
   "execution_count": 13,
   "metadata": {},
   "outputs": [
    {
     "data": {
      "text/plain": [
       "-1"
      ]
     },
     "execution_count": 13,
     "metadata": {},
     "output_type": "execute_result"
    }
   ],
   "source": [
    "-1"
   ]
  },
  {
   "cell_type": "code",
   "execution_count": 18,
   "metadata": {},
   "outputs": [
    {
     "ename": "SyntaxError",
     "evalue": "invalid syntax (<ipython-input-18-646b45670170>, line 1)",
     "output_type": "error",
     "traceback": [
      "\u001b[1;36m  File \u001b[1;32m\"<ipython-input-18-646b45670170>\"\u001b[1;36m, line \u001b[1;32m1\u001b[0m\n\u001b[1;33m    2*\u001b[0m\n\u001b[1;37m      ^\u001b[0m\n\u001b[1;31mSyntaxError\u001b[0m\u001b[1;31m:\u001b[0m invalid syntax\n"
     ]
    }
   ],
   "source": [
    "2*"
   ]
  },
  {
   "cell_type": "code",
   "execution_count": 19,
   "metadata": {},
   "outputs": [
    {
     "ename": "SyntaxError",
     "evalue": "can't use starred expression here (<ipython-input-19-f0d32a5bf4e9>, line 1)",
     "output_type": "error",
     "traceback": [
      "\u001b[1;36m  File \u001b[1;32m\"<ipython-input-19-f0d32a5bf4e9>\"\u001b[1;36m, line \u001b[1;32m1\u001b[0m\n\u001b[1;33m    *2\u001b[0m\n\u001b[1;37m      ^\u001b[0m\n\u001b[1;31mSyntaxError\u001b[0m\u001b[1;31m:\u001b[0m can't use starred expression here\n"
     ]
    }
   ],
   "source": [
    "*2"
   ]
  },
  {
   "cell_type": "code",
   "execution_count": 20,
   "metadata": {},
   "outputs": [
    {
     "ename": "SyntaxError",
     "evalue": "invalid syntax (<ipython-input-20-240aef4529fe>, line 1)",
     "output_type": "error",
     "traceback": [
      "\u001b[1;36m  File \u001b[1;32m\"<ipython-input-20-240aef4529fe>\"\u001b[1;36m, line \u001b[1;32m1\u001b[0m\n\u001b[1;33m    3/\u001b[0m\n\u001b[1;37m      ^\u001b[0m\n\u001b[1;31mSyntaxError\u001b[0m\u001b[1;31m:\u001b[0m invalid syntax\n"
     ]
    }
   ],
   "source": [
    "3/"
   ]
  },
  {
   "cell_type": "code",
   "execution_count": 21,
   "metadata": {},
   "outputs": [
    {
     "ename": "TypeError",
     "evalue": "'int' object is not callable",
     "output_type": "error",
     "traceback": [
      "\u001b[1;31m---------------------------------------------------------------------------\u001b[0m",
      "\u001b[1;31mTypeError\u001b[0m                                 Traceback (most recent call last)",
      "\u001b[1;32m<ipython-input-21-690139e7608b>\u001b[0m in \u001b[0;36m<module>\u001b[1;34m()\u001b[0m\n\u001b[1;32m----> 1\u001b[1;33m \u001b[1;36m3\u001b[0m\u001b[1;33m(\u001b[0m\u001b[1;33m)\u001b[0m\u001b[1;33m\u001b[0m\u001b[1;33m\u001b[0m\u001b[0m\n\u001b[0m",
      "\u001b[1;31mTypeError\u001b[0m: 'int' object is not callable"
     ]
    }
   ],
   "source": [
    "/3"
   ]
  },
  {
   "cell_type": "code",
   "execution_count": 22,
   "metadata": {},
   "outputs": [
    {
     "data": {
      "text/plain": [
       "4"
      ]
     },
     "execution_count": 22,
     "metadata": {},
     "output_type": "execute_result"
    }
   ],
   "source": [
    "2**2"
   ]
  },
  {
   "cell_type": "code",
   "execution_count": 23,
   "metadata": {},
   "outputs": [
    {
     "ename": "SyntaxError",
     "evalue": "invalid syntax (<ipython-input-23-ecf75f4aa331>, line 1)",
     "output_type": "error",
     "traceback": [
      "\u001b[1;36m  File \u001b[1;32m\"<ipython-input-23-ecf75f4aa331>\"\u001b[1;36m, line \u001b[1;32m1\u001b[0m\n\u001b[1;33m    2**\u001b[0m\n\u001b[1;37m       ^\u001b[0m\n\u001b[1;31mSyntaxError\u001b[0m\u001b[1;31m:\u001b[0m invalid syntax\n"
     ]
    }
   ],
   "source": [
    "2**"
   ]
  },
  {
   "cell_type": "code",
   "execution_count": 24,
   "metadata": {},
   "outputs": [
    {
     "ename": "SyntaxError",
     "evalue": "invalid syntax (<ipython-input-24-761fbd9e1b55>, line 1)",
     "output_type": "error",
     "traceback": [
      "\u001b[1;36m  File \u001b[1;32m\"<ipython-input-24-761fbd9e1b55>\"\u001b[1;36m, line \u001b[1;32m1\u001b[0m\n\u001b[1;33m    **2\u001b[0m\n\u001b[1;37m     ^\u001b[0m\n\u001b[1;31mSyntaxError\u001b[0m\u001b[1;31m:\u001b[0m invalid syntax\n"
     ]
    }
   ],
   "source": [
    "**2"
   ]
  },
  {
   "cell_type": "code",
   "execution_count": 25,
   "metadata": {},
   "outputs": [
    {
     "data": {
      "text/plain": [
       "2"
      ]
     },
     "execution_count": 25,
     "metadata": {},
     "output_type": "execute_result"
    }
   ],
   "source": [
    "5//2"
   ]
  },
  {
   "cell_type": "code",
   "execution_count": 27,
   "metadata": {},
   "outputs": [
    {
     "ename": "SyntaxError",
     "evalue": "invalid syntax (<ipython-input-27-f8de2d4e404c>, line 1)",
     "output_type": "error",
     "traceback": [
      "\u001b[1;36m  File \u001b[1;32m\"<ipython-input-27-f8de2d4e404c>\"\u001b[1;36m, line \u001b[1;32m1\u001b[0m\n\u001b[1;33m    (/5)\u001b[0m\n\u001b[1;37m     ^\u001b[0m\n\u001b[1;31mSyntaxError\u001b[0m\u001b[1;31m:\u001b[0m invalid syntax\n"
     ]
    }
   ],
   "source": [
    "//5"
   ]
  },
  {
   "cell_type": "code",
   "execution_count": 28,
   "metadata": {},
   "outputs": [
    {
     "data": {
      "text/plain": [
       "8"
      ]
     },
     "execution_count": 28,
     "metadata": {},
     "output_type": "execute_result"
    }
   ],
   "source": [
    "2<<2"
   ]
  },
  {
   "cell_type": "markdown",
   "metadata": {},
   "source": [
    "### 逻辑运算符"
   ]
  },
  {
   "cell_type": "markdown",
   "metadata": {},
   "source": [
    "逻辑运算发主要按照字符二级制进行操作：\n",
    "\n",
    "逻辑运算符|作用|特性|\n",
    "---|:---:|---:|\n",
    "&|按位与|有0为0，都是1为1\n",
    "||按位或|有1出1，都为0为0\n",
    "^|亦或|不同出1，相同出0\n",
    "~|按位取反|1~0转换\n",
    ">|判读大于？|返回为True或False\n",
    "<|判断小于？|返回为True或False\n",
    ">=|大于的等于|同上\n",
    "<=|小于等于|同上\n",
    "==|等于|同上\n",
    "！=|不等于|同上\n",
    "not|布尔‘非’|操作对象为布尔型，True或False\n",
    "and|布尔‘与’|操作对象为布尔型，True或False\n",
    "or|布尔‘或’|操作对象为布尔型，True或False"
   ]
  },
  {
   "cell_type": "code",
   "execution_count": 34,
   "metadata": {},
   "outputs": [
    {
     "data": {
      "text/plain": [
       "False"
      ]
     },
     "execution_count": 34,
     "metadata": {},
     "output_type": "execute_result"
    }
   ],
   "source": [
    "x=True\n",
    "not x"
   ]
  },
  {
   "cell_type": "code",
   "execution_count": 33,
   "metadata": {},
   "outputs": [
    {
     "data": {
      "text/plain": [
       "14"
      ]
     },
     "execution_count": 33,
     "metadata": {},
     "output_type": "execute_result"
    }
   ],
   "source": [
    "6^8  # 0110  1000 亦或运算后为1110"
   ]
  },
  {
   "cell_type": "code",
   "execution_count": 32,
   "metadata": {},
   "outputs": [
    {
     "data": {
      "text/plain": [
       "6"
      ]
     },
     "execution_count": 32,
     "metadata": {},
     "output_type": "execute_result"
    }
   ],
   "source": [
    "6|4  # 110 100  或运算得到110"
   ]
  },
  {
   "cell_type": "code",
   "execution_count": 31,
   "metadata": {},
   "outputs": [
    {
     "data": {
      "text/plain": [
       "2"
      ]
     },
     "execution_count": 31,
     "metadata": {},
     "output_type": "execute_result"
    }
   ],
   "source": [
    "2&6  # 10 110与运算得到10，为2"
   ]
  },
  {
   "cell_type": "markdown",
   "metadata": {},
   "source": [
    "### 成员运算符"
   ]
  },
  {
   "cell_type": "markdown",
   "metadata": {},
   "source": [
    "Python还支持成员运算符，包括字符串，列表或元组等。\n",
    "\n",
    "成员运算符|作用|特性|\n",
    "---|:---:|---:|\n",
    "in|在对象中|返回为True或False\n",
    "not in|不在对象中|同上"
   ]
  },
  {
   "cell_type": "code",
   "execution_count": 39,
   "metadata": {},
   "outputs": [
    {
     "name": "stdout",
     "output_type": "stream",
     "text": [
      "True\n",
      "False\n",
      "False\n",
      "True\n"
     ]
    }
   ],
   "source": [
    "a = [1, 6, 9, 3]\n",
    "print(6 in a )\n",
    "print(56 in a )\n",
    "print(6 not in a )\n",
    "print(56 not in a )"
   ]
  },
  {
   "cell_type": "markdown",
   "metadata": {},
   "source": [
    "### 身份运算符"
   ]
  },
  {
   "cell_type": "markdown",
   "metadata": {},
   "source": [
    "身份运算符用于比较两个对象的存储单元是为相同。\n",
    "\n",
    "身份运算符|作用|特性|\n",
    "---|:---:|---:|\n",
    "is|为对同一对对象的引用|返回为True或False\n",
    "not is|不是对同一对对象的引用|同上"
   ]
  },
  {
   "cell_type": "code",
   "execution_count": 47,
   "metadata": {},
   "outputs": [
    {
     "name": "stdout",
     "output_type": "stream",
     "text": [
      "False\n",
      "True\n",
      "True\n",
      "False\n",
      "1573369792\n",
      "1573370848\n",
      "1573369792\n"
     ]
    }
   ],
   "source": [
    "a = 56\n",
    "b = 89\n",
    "c = a\n",
    "print(a is b)\n",
    "print(b is not a )\n",
    "print(c is a )\n",
    "print(c is not a )\n",
    "print(id(a))   # id()返回对象的内存地址\n",
    "print(id(b))\n",
    "print(id(c))"
   ]
  },
  {
   "cell_type": "markdown",
   "metadata": {},
   "source": [
    "### 运算符优先级"
   ]
  },
  {
   "cell_type": "markdown",
   "metadata": {},
   "source": [
    "下面按序号对运算符的优先级进行排序：\n",
    "1. **最高级**： **\n",
    "2. 按位取反、一元加/减： ~，+，-\n",
    "3. 乘、除、取余、整除： *，/，%，//\n",
    "4. 加、减： +， -\n",
    "5. 左移、右移： >>, <<\n",
    "6. 位运算： &， |， ^\n",
    "7. 比较运算符： <, >, >=, <=\n",
    "8. 等于运算符： ==， ！=\n",
    "9. 赋值运算符\n",
    "10. 身份运算符\n",
    "11. 成员运算符\n",
    "12. 逻辑运算符 "
   ]
  }
 ],
 "metadata": {
  "kernelspec": {
   "display_name": "Python 3",
   "language": "python",
   "name": "python3"
  },
  "language_info": {
   "codemirror_mode": {
    "name": "ipython",
    "version": 3
   },
   "file_extension": ".py",
   "mimetype": "text/x-python",
   "name": "python",
   "nbconvert_exporter": "python",
   "pygments_lexer": "ipython3",
   "version": "3.6.8"
  },
  "toc": {
   "base_numbering": 1,
   "nav_menu": {},
   "number_sections": true,
   "sideBar": true,
   "skip_h1_title": false,
   "title_cell": "Table of Contents",
   "title_sidebar": "Contents",
   "toc_cell": false,
   "toc_position": {
    "height": "calc(100% - 180px)",
    "left": "10px",
    "top": "150px",
    "width": "384px"
   },
   "toc_section_display": true,
   "toc_window_display": true
  }
 },
 "nbformat": 4,
 "nbformat_minor": 2
}
